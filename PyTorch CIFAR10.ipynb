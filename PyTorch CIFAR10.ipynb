{
 "cells": [
  {
   "cell_type": "code",
   "execution_count": 78,
   "id": "3744964e",
   "metadata": {},
   "outputs": [],
   "source": [
    "import torch\n",
    "import torchvision\n",
    "import torchvision.transforms as transforms\n",
    "import matplotlib.pyplot as plt\n",
    "from torch import nn\n",
    "from torch import optim"
   ]
  },
  {
   "cell_type": "code",
   "execution_count": 42,
   "id": "e434f530",
   "metadata": {},
   "outputs": [],
   "source": [
    "my_transforms = transforms.Compose([ \n",
    "                                  \n",
    "                                   transforms.ColorJitter(brightness=0.6), \n",
    "                                   transforms.RandomRotation(degrees=9), \n",
    "                                   transforms.RandomHorizontalFlip(p=0.1), \n",
    "                                   transforms.RandomGrayscale(p=0.2), \n",
    "                                   transforms.ToTensor()])"
   ]
  },
  {
   "cell_type": "code",
   "execution_count": 132,
   "id": "5eab3484",
   "metadata": {},
   "outputs": [
    {
     "name": "stdout",
     "output_type": "stream",
     "text": [
      "Files already downloaded and verified\n"
     ]
    }
   ],
   "source": [
    "train = torchvision.datasets.CIFAR10(root='data/', train=True, transform=transforms.ToTensor(), download=True)"
   ]
  },
  {
   "cell_type": "code",
   "execution_count": 51,
   "id": "e8147aaf",
   "metadata": {},
   "outputs": [],
   "source": [
    "image, label = train[1]"
   ]
  },
  {
   "cell_type": "code",
   "execution_count": 52,
   "id": "767455b9",
   "metadata": {},
   "outputs": [
    {
     "name": "stdout",
     "output_type": "stream",
     "text": [
      "torch.Size([3, 32, 32])\n"
     ]
    },
    {
     "data": {
      "text/plain": [
       "torch.Size([32, 32, 3])"
      ]
     },
     "execution_count": 52,
     "metadata": {},
     "output_type": "execute_result"
    }
   ],
   "source": [
    "# в pytorch картинки скачиваются в другой последовательснти, то есть сначала слои, потом разрешение пикселей\n",
    "# чтобы картинка отображалась правильно, надо кол-во слоев поставить в конец через permute(1, 2, 0)\n",
    "print(image.size())\n",
    "image.permute(1, 2, 0).shape"
   ]
  },
  {
   "cell_type": "code",
   "execution_count": 53,
   "id": "9ce7adbe",
   "metadata": {},
   "outputs": [
    {
     "data": {
      "text/plain": [
       "<matplotlib.image.AxesImage at 0x1aa2b7ea130>"
      ]
     },
     "execution_count": 53,
     "metadata": {},
     "output_type": "execute_result"
    },
    {
     "data": {
      "image/png": "[encoded data removed]",
      "text/plain": [
       "<Figure size 640x480 with 1 Axes>"
      ]
     },
     "metadata": {},
     "output_type": "display_data"
    }
   ],
   "source": [
    "plt.imshow(image.permute(1, 2, 0).numpy())"
   ]
  },
  {
   "cell_type": "code",
   "execution_count": 133,
   "id": "a2521370",
   "metadata": {},
   "outputs": [
    {
     "name": "stdout",
     "output_type": "stream",
     "text": [
      "Files already downloaded and verified\n"
     ]
    }
   ],
   "source": [
    "test_dataset = torchvision.datasets.CIFAR10(root='./data', train=False,\n",
    "                                            download=True, transform=transforms.ToTensor())"
   ]
  },
  {
   "cell_type": "code",
   "execution_count": 134,
   "id": "cb571465",
   "metadata": {},
   "outputs": [
    {
     "data": {
      "text/plain": [
       "device(type='cuda', index=0)"
      ]
     },
     "execution_count": 134,
     "metadata": {},
     "output_type": "execute_result"
    }
   ],
   "source": [
    "# Определяем на чем у нас будут производиться вычисления (cuda/cpu)\n",
    "device = torch.device('cuda:0') if torch.cuda.is_available else torch.device('cpu')  \n",
    "device"
   ]
  },
  {
   "cell_type": "code",
   "execution_count": 135,
   "id": "0827cf20",
   "metadata": {},
   "outputs": [],
   "source": [
    "train_loader = torch.utils.data.DataLoader(dataset=train, batch_size=512, shuffle=True)\n",
    "test_loader = torch.utils.data.DataLoader(dataset=test_dataset, batch_size=8, shuffle=True) "
   ]
  },
  {
   "cell_type": "code",
   "execution_count": 136,
   "id": "4782e05e",
   "metadata": {},
   "outputs": [],
   "source": [
    "classes = ('plane', 'car', 'bird', 'cat',\n",
    "           'deer', 'dog', 'frog', 'horse', 'ship', 'truck')"
   ]
  },
  {
   "cell_type": "code",
   "execution_count": 137,
   "id": "be5e5fa7",
   "metadata": {},
   "outputs": [
    {
     "data": {
      "text/plain": [
       "torch.Size([3, 1024])"
      ]
     },
     "execution_count": 137,
     "metadata": {},
     "output_type": "execute_result"
    }
   ],
   "source": [
    "image.view(image.shape[0], -1).size()"
   ]
  },
  {
   "cell_type": "code",
   "execution_count": 175,
   "id": "522efb90",
   "metadata": {},
   "outputs": [
    {
     "data": {
      "text/plain": [
       "Model(\n",
       "  (fc1): Linear(in_features=3072, out_features=400, bias=True)\n",
       "  (fc2): Linear(in_features=400, out_features=200, bias=True)\n",
       "  (fc3): Linear(in_features=200, out_features=100, bias=True)\n",
       "  (fc4): Linear(in_features=100, out_features=10, bias=True)\n",
       ")"
      ]
     },
     "execution_count": 175,
     "metadata": {},
     "output_type": "execute_result"
    }
   ],
   "source": [
    "import torch.nn.functional as F\n",
    "\n",
    "class Model(nn.Module):\n",
    "    def __init__(self, input_dim, hidden_dim, output_dim):\n",
    "        super().__init__()\n",
    "        #первый слой, кол-во входов по кол-ву пикселей в картинкеб кол-во выходов по кол-ву нейонов в следующем слое\n",
    "        self.fc1 = nn.Linear(input_dim, 4*hidden_dim)\n",
    "        self.fc2 = nn.Linear(4*hidden_dim, 2*hidden_dim)\n",
    "        self.fc3 = nn.Linear(2*hidden_dim, hidden_dim)\n",
    "        self.fc4 = nn.Linear(hidden_dim, output_dim)\n",
    "        \n",
    "    def forward(self, x):\n",
    "        x = x.view(x.shape[0], -1) # переводим из (32,32,3) в (3,1024)\n",
    "        x = self.fc1(x)\n",
    "        x = F.leaky_relu(x)\n",
    "        x = self.fc2(x)\n",
    "        x = F.leaky_relu(x)\n",
    "        x = self.fc3(x)\n",
    "        x = F.leaky_relu(x)\n",
    "        x = self.fc4(x)\n",
    "        return x\n",
    "    \n",
    "    def predict(self, x):\n",
    "        x = x.view(x.shape[0], -1)\n",
    "        x = self.fc1(x)\n",
    "        x = F.leaky_relu(x)\n",
    "        x = self.fc2(x)\n",
    "        x = F.leaky_relu(x)\n",
    "        x = self.fc3(x)\n",
    "        x = F.leaky_relu(x)\n",
    "        x = self.fc4(x)\n",
    "        #x = F.softmax(x)\n",
    "        return x\n",
    "    \n",
    "model1 = Model(3072, 100, 10)\n",
    "model1.train()\n",
    "        "
   ]
  },
  {
   "cell_type": "code",
   "execution_count": 176,
   "id": "1b516809",
   "metadata": {},
   "outputs": [],
   "source": [
    "criterion = nn.CrossEntropyLoss()\n",
    "optimizer = optim.Adam(model1.parameters(), lr=0.01)"
   ]
  },
  {
   "cell_type": "code",
   "execution_count": null,
   "id": "50509ddb",
   "metadata": {},
   "outputs": [],
   "source": [
    "import time"
   ]
  },
  {
   "cell_type": "code",
   "execution_count": 168,
   "id": "82f73b61",
   "metadata": {},
   "outputs": [
    {
     "data": {
      "text/plain": [
       "Model(\n",
       "  (fc1): Linear(in_features=3072, out_features=400, bias=True)\n",
       "  (fc2): Linear(in_features=400, out_features=200, bias=True)\n",
       "  (fc3): Linear(in_features=200, out_features=100, bias=True)\n",
       "  (fc4): Linear(in_features=100, out_features=10, bias=True)\n",
       ")"
      ]
     },
     "execution_count": 168,
     "metadata": {},
     "output_type": "execute_result"
    }
   ],
   "source": [
    "model1.to(device)"
   ]
  },
  {
   "cell_type": "code",
   "execution_count": 169,
   "id": "a0b13bfd",
   "metadata": {},
   "outputs": [
    {
     "name": "stdout",
     "output_type": "stream",
     "text": [
      "Epoch [1/5]. Step [1/98]. Loss 0.004\n",
      "Epoch [2/5]. Step [1/98]. Loss 0.005\n",
      "Epoch [3/5]. Step [1/98]. Loss 0.004\n",
      "Epoch [4/5]. Step [1/98]. Loss 0.004\n",
      "Epoch [5/5]. Step [1/98]. Loss 0.004\n",
      "Wall time: 34.7 s\n"
     ]
    }
   ],
   "source": [
    "%%time\n",
    "\n",
    "num_epochs = 5\n",
    "\n",
    "for epoch in range(num_epochs):\n",
    "    running_loss = 0.0\n",
    "    running_items = 0.0\n",
    "    \n",
    "    for i, data in enumerate(train_loader):\n",
    "        inputs = data[0].to(device)\n",
    "        labels = data[1].to(device)\n",
    "        \n",
    "        # обнуляем граденты\n",
    "        optimizer.zero_grad()\n",
    "        #make preds\n",
    "        outputs = model1(inputs)\n",
    "        # loss \n",
    "        loss = criterion(outputs, labels)\n",
    "        # backward, using loss\n",
    "        loss.backward()\n",
    "        #adjust weights\n",
    "        optimizer.step()\n",
    "        \n",
    "        #stats\n",
    "        running_loss += loss.item()\n",
    "        running_items += len(labels)\n",
    "        \n",
    "        if i % 300 ==0:\n",
    "            print(f'Epoch [{epoch+1}/{num_epochs}]. ' \\\n",
    "                 f'Step [{i+1}/{len(train_loader)}]. '\\\n",
    "                 f'Loss {running_loss/running_items:.3f}')\n",
    "            running_loss, running_items = 0.0, 0.0"
   ]
  },
  {
   "cell_type": "code",
   "execution_count": 143,
   "id": "56fdceb4",
   "metadata": {},
   "outputs": [],
   "source": [
    "#cpu 40.6s\n",
    "# gpu 33.8s\n",
    "data_iter = iter(test_loader)\n",
    "images, labels = next(data_iter)"
   ]
  },
  {
   "cell_type": "code",
   "execution_count": null,
   "id": "d2afbc0b",
   "metadata": {},
   "outputs": [],
   "source": []
  },
  {
   "cell_type": "code",
   "execution_count": 164,
   "id": "b8f3b207",
   "metadata": {},
   "outputs": [
    {
     "data": {
      "text/plain": [
       "Model(\n",
       "  (fc1): Linear(in_features=3072, out_features=400, bias=True)\n",
       "  (fc2): Linear(in_features=400, out_features=200, bias=True)\n",
       "  (fc3): Linear(in_features=200, out_features=100, bias=True)\n",
       "  (fc4): Linear(in_features=100, out_features=10, bias=True)\n",
       ")"
      ]
     },
     "execution_count": 164,
     "metadata": {},
     "output_type": "execute_result"
    }
   ],
   "source": [
    "import numpy as np\n",
    "model1.to(device)"
   ]
  },
  {
   "cell_type": "code",
   "execution_count": 170,
   "id": "2f2367ee",
   "metadata": {},
   "outputs": [
    {
     "name": "stdout",
     "output_type": "stream",
     "text": [
      "Test accuracy 0.184\n"
     ]
    }
   ],
   "source": [
    "#без softmax\n",
    "acc = 0\n",
    "batches = 0\n",
    "\n",
    "for x_batch, y_batch in test_loader:\n",
    "  # загружаем батч данных (вытянутый в линию)\n",
    "  batches += 1\n",
    "  x_batch = x_batch.view(x_batch.shape[0], -1).to(device)\n",
    "  y_batch = y_batch.to(device)\n",
    "\n",
    "  preds = torch.argmax(model1(x_batch), dim=1)\n",
    "  acc += (preds==y_batch).cpu().numpy().mean()\n",
    "\n",
    "print(f'Test accuracy {acc / batches:.3}')"
   ]
  },
  {
   "cell_type": "code",
   "execution_count": 207,
   "id": "504bd681",
   "metadata": {},
   "outputs": [
    {
     "name": "stdout",
     "output_type": "stream",
     "text": [
      "['truck' 'frog' 'bird' 'frog' 'plane' 'car' 'frog' 'car']\n",
      "['ship' 'dog' 'cat' 'frog' 'dog' 'frog' 'car' 'horse']\n",
      "Accuracy is 0.125\n"
     ]
    }
   ],
   "source": [
    "# вместе с softmax\n",
    "data_iter = iter(test_loader)\n",
    "images, labels = next(data_iter)\n",
    "\n",
    "gt = np.array([classes[labels[j]] for j in range(len(labels))])\n",
    "pred = np.array([classes[predicted[j]] for j in range(len(labels))])\n",
    "\n",
    "print(gt)\n",
    "print(pred)\n",
    "print(f'Accuracy is {(gt == pred).sum() / len(gt)}')"
   ]
  },
  {
   "cell_type": "code",
   "execution_count": 180,
   "id": "419d6998",
   "metadata": {},
   "outputs": [
    {
     "name": "stdout",
     "output_type": "stream",
     "text": [
      "Note: you may need to restart the kernel to use updated packages.\n"
     ]
    }
   ],
   "source": [
    "pip install torch-summary >> None"
   ]
  },
  {
   "cell_type": "code",
   "execution_count": 181,
   "id": "b8a7cf05",
   "metadata": {},
   "outputs": [],
   "source": [
    "# перепишем и увеличим модель в более простом стиле\n",
    "from torchsummary import summary\n"
   ]
  },
  {
   "cell_type": "code",
   "execution_count": 197,
   "id": "3054be6a",
   "metadata": {},
   "outputs": [],
   "source": [
    "model2 = nn.Sequential(nn.Linear(3072, 1536),\n",
    "                      nn.LeakyReLU(), \n",
    "                      nn.Linear(1536, 512), \n",
    "                      nn.LeakyReLU(), \n",
    "                      nn.Linear(512, 256), \n",
    "                      nn.LeakyReLU(), \n",
    "                      nn.Linear(256, 64), \n",
    "                      nn.LeakyReLU(), \n",
    "                      nn.Linear(64, 10))"
   ]
  },
  {
   "cell_type": "code",
   "execution_count": 198,
   "id": "a10f0b59",
   "metadata": {},
   "outputs": [
    {
     "name": "stdout",
     "output_type": "stream",
     "text": [
      "=================================================================\n",
      "Layer (type:depth-idx)                   Param #\n",
      "=================================================================\n",
      "├─Linear: 1-1                            4,720,128\n",
      "├─LeakyReLU: 1-2                         --\n",
      "├─Linear: 1-3                            786,944\n",
      "├─LeakyReLU: 1-4                         --\n",
      "├─Linear: 1-5                            131,328\n",
      "├─LeakyReLU: 1-6                         --\n",
      "├─Linear: 1-7                            16,448\n",
      "├─LeakyReLU: 1-8                         --\n",
      "├─Linear: 1-9                            650\n",
      "=================================================================\n",
      "Total params: 5,655,498\n",
      "Trainable params: 5,655,498\n",
      "Non-trainable params: 0\n",
      "=================================================================\n"
     ]
    },
    {
     "data": {
      "text/plain": [
       "=================================================================\n",
       "Layer (type:depth-idx)                   Param #\n",
       "=================================================================\n",
       "├─Linear: 1-1                            4,720,128\n",
       "├─LeakyReLU: 1-2                         --\n",
       "├─Linear: 1-3                            786,944\n",
       "├─LeakyReLU: 1-4                         --\n",
       "├─Linear: 1-5                            131,328\n",
       "├─LeakyReLU: 1-6                         --\n",
       "├─Linear: 1-7                            16,448\n",
       "├─LeakyReLU: 1-8                         --\n",
       "├─Linear: 1-9                            650\n",
       "=================================================================\n",
       "Total params: 5,655,498\n",
       "Trainable params: 5,655,498\n",
       "Non-trainable params: 0\n",
       "================================================================="
      ]
     },
     "execution_count": 198,
     "metadata": {},
     "output_type": "execute_result"
    }
   ],
   "source": [
    "summary(model2)"
   ]
  },
  {
   "cell_type": "code",
   "execution_count": 199,
   "id": "d6ffb795",
   "metadata": {},
   "outputs": [
    {
     "data": {
      "text/plain": [
       "Sequential(\n",
       "  (0): Linear(in_features=3072, out_features=1536, bias=True)\n",
       "  (1): LeakyReLU(negative_slope=0.01)\n",
       "  (2): Linear(in_features=1536, out_features=512, bias=True)\n",
       "  (3): LeakyReLU(negative_slope=0.01)\n",
       "  (4): Linear(in_features=512, out_features=256, bias=True)\n",
       "  (5): LeakyReLU(negative_slope=0.01)\n",
       "  (6): Linear(in_features=256, out_features=64, bias=True)\n",
       "  (7): LeakyReLU(negative_slope=0.01)\n",
       "  (8): Linear(in_features=64, out_features=10, bias=True)\n",
       ")"
      ]
     },
     "execution_count": 199,
     "metadata": {},
     "output_type": "execute_result"
    }
   ],
   "source": [
    "model2.to(device)"
   ]
  },
  {
   "cell_type": "code",
   "execution_count": 200,
   "id": "bde8b7d3",
   "metadata": {},
   "outputs": [],
   "source": [
    "criterion = nn.CrossEntropyLoss()      # (logsoftmax + negative likelihood) в своей основе применительно к логитам (logits)\n",
    "\n",
    "optimizer = torch.optim.Adam(model2.parameters(), lr=1e-3, betas=(0.9, 0.99))"
   ]
  },
  {
   "cell_type": "code",
   "execution_count": 201,
   "id": "8cfdef5d",
   "metadata": {},
   "outputs": [],
   "source": [
    "epochs = 15\n",
    "history = []"
   ]
  },
  {
   "cell_type": "code",
   "execution_count": 202,
   "id": "30af3aa2",
   "metadata": {},
   "outputs": [
    {
     "name": "stdout",
     "output_type": "stream",
     "text": [
      "1,\t loss: 1.8687931299209595\n",
      "2,\t loss: 1.6951501369476318\n",
      "3,\t loss: 1.67483389377594\n",
      "4,\t loss: 1.556384801864624\n",
      "5,\t loss: 1.49784255027771\n",
      "6,\t loss: 1.3933063745498657\n",
      "7,\t loss: 1.3575996160507202\n",
      "8,\t loss: 1.3342665433883667\n",
      "9,\t loss: 1.3700010776519775\n",
      "10,\t loss: 1.4231122732162476\n",
      "11,\t loss: 1.262865662574768\n",
      "12,\t loss: 1.1881165504455566\n",
      "13,\t loss: 1.320119023323059\n",
      "14,\t loss: 1.1759328842163086\n",
      "15,\t loss: 1.1721328496932983\n"
     ]
    }
   ],
   "source": [
    "for i in range(epochs):\n",
    "  for x_batch, y_batch in train_loader:\n",
    "    # 1. # загружаем батч данных (вытянутый в линию)\n",
    "    x_batch = x_batch.view(x_batch.shape[0], -1).to(device)\n",
    "    y_batch = y_batch.to(device)\n",
    "\n",
    "    # 2. вычисляем скор с помощью прямого распространения ( .forward or .__call__ )\n",
    "    logits = model2(x_batch)\n",
    "\n",
    "    # 3. вычислеяем - функцию потерь (loss)\n",
    "    loss = criterion(logits, y_batch)\n",
    "    history.append(loss.item())\n",
    "\n",
    "    # 4. вычисляем градиенты\n",
    "    optimizer.zero_grad()\n",
    "    loss.backward()\n",
    "\n",
    "    # 5. шаг градиентного спуска\n",
    "    optimizer.step()\n",
    "\n",
    "  print(f'{i+1},\\t loss: {history[-1]}')"
   ]
  },
  {
   "cell_type": "code",
   "execution_count": 203,
   "id": "b2747605",
   "metadata": {},
   "outputs": [
    {
     "data": {
      "image/png": "[encoded data removed]",
      "text/plain": [
       "<Figure size 1000x700 with 1 Axes>"
      ]
     },
     "metadata": {},
     "output_type": "display_data"
    }
   ],
   "source": [
    "import matplotlib.pyplot as plt\n",
    "plt.figure(figsize=(10, 7))\n",
    "\n",
    "plt.plot(history)\n",
    "\n",
    "plt.title('Loss by batch iterations')\n",
    "plt.ylabel('Entropy Loss')\n",
    "plt.xlabel('batches')\n",
    "\n",
    "plt.show()"
   ]
  },
  {
   "cell_type": "code",
   "execution_count": 220,
   "id": "7a40b47b",
   "metadata": {},
   "outputs": [
    {
     "name": "stdout",
     "output_type": "stream",
     "text": [
      "Test accuracy 0.534\n"
     ]
    }
   ],
   "source": [
    "from sklearn.metrics import accuracy_score\n",
    "acc = 0\n",
    "batches = 0\n",
    "\n",
    "for x_batch, y_batch in test_loader:\n",
    "  # загружаем батч данных (вытянутый в линию)\n",
    "  batches += 1\n",
    "  x_batch = x_batch.view(x_batch.shape[0], -1).to(device)\n",
    "  y_batch = y_batch.to(device)\n",
    "\n",
    "  preds = torch.argmax(model2(x_batch), dim=1)\n",
    "  acc += (preds==y_batch).cpu().numpy().mean()\n",
    "\n",
    "print(f'Test accuracy {acc / batches:.3}')"
   ]
  },
  {
   "cell_type": "code",
   "execution_count": 221,
   "id": "03a8ce9c",
   "metadata": {},
   "outputs": [
    {
     "data": {
      "text/plain": [
       "Sequential(\n",
       "  (0): Linear(in_features=3072, out_features=1536, bias=True)\n",
       "  (1): LeakyReLU(negative_slope=0.01)\n",
       "  (2): Linear(in_features=1536, out_features=512, bias=True)\n",
       "  (3): LeakyReLU(negative_slope=0.01)\n",
       "  (4): Linear(in_features=512, out_features=256, bias=True)\n",
       "  (5): LeakyReLU(negative_slope=0.01)\n",
       "  (6): Linear(in_features=256, out_features=64, bias=True)\n",
       "  (7): LeakyReLU(negative_slope=0.01)\n",
       "  (8): Linear(in_features=64, out_features=10, bias=True)\n",
       ")"
      ]
     },
     "execution_count": 221,
     "metadata": {},
     "output_type": "execute_result"
    }
   ],
   "source": [
    "model2.to('cpu')"
   ]
  },
  {
   "cell_type": "code",
   "execution_count": 215,
   "id": "f7876e1a",
   "metadata": {},
   "outputs": [],
   "source": [
    "data_iter = iter(test_loader)\n",
    "images, labels = next(data_iter)"
   ]
  },
  {
   "cell_type": "code",
   "execution_count": 223,
   "id": "2c214bf4",
   "metadata": {},
   "outputs": [
    {
     "name": "stdout",
     "output_type": "stream",
     "text": [
      "['car' 'bird' 'frog' 'bird' 'plane' 'bird' 'plane' 'ship']\n",
      "['truck' 'cat' 'frog' 'bird' 'horse' 'cat' 'plane' 'ship']\n",
      "Accuracy is 0.5\n"
     ]
    }
   ],
   "source": [
    "\n",
    "\n",
    "model2.eval()\n",
    "preds = torch.argmax(model2(images.view(images.shape[0], -1)), dim=1)\n",
    "# outputs = model2(images)\n",
    "# _, predicted = torch.max(outputs, 1)\n",
    "\n",
    "\n",
    "\n",
    "gt = np.array([classes[labels[j]] for j in range(len(labels))])\n",
    "pred = np.array([classes[preds[j]] for j in range(len(labels))])\n",
    "\n",
    "print(gt)\n",
    "print(pred)\n",
    "print(f'Accuracy is {(gt == pred).sum() / len(gt)}')"
   ]
  },
  {
   "cell_type": "code",
   "execution_count": null,
   "id": "1a053e99",
   "metadata": {},
   "outputs": [],
   "source": []
  }
 ],
 "metadata": {
  "kernelspec": {
   "display_name": "Python 3 (ipykernel)",
   "language": "python",
   "name": "python3"
  },
  "language_info": {
   "codemirror_mode": {
    "name": "ipython",
    "version": 3
   },
   "file_extension": ".py",
   "mimetype": "text/x-python",
   "name": "python",
   "nbconvert_exporter": "python",
   "pygments_lexer": "ipython3",
   "version": "3.9.13"
  }
 },
 "nbformat": 4,
 "nbformat_minor": 5
}
