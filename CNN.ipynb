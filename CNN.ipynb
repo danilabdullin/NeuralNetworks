{
 "cells": [
  {
   "cell_type": "markdown",
   "id": "1a62aa6a",
   "metadata": {},
   "source": [
    "- реализовать нейронную сеть или стек из сверток (Concatenate) на сifar10.\n",
    "- оценить рост точности при увеличении ширины сети (больше ядер), больше нитей.\n",
    "- оценить рост точности при увеличении глубины сети (больше слоев)"
   ]
  },
  {
   "cell_type": "code",
   "execution_count": 1,
   "id": "e972b92c",
   "metadata": {},
   "outputs": [],
   "source": [
    "import tensorflow as tf\n",
    "from tensorflow import keras\n",
    "from tensorflow.keras.datasets import cifar10\n",
    "from tensorflow.keras.models import Sequential, Model\n",
    "from tensorflow.keras.layers import Dense, Activation, Flatten, Conv2D, MaxPooling2D, Input\n",
    "import numpy as np"
   ]
  },
  {
   "cell_type": "code",
   "execution_count": 2,
   "id": "66ddf68e",
   "metadata": {},
   "outputs": [],
   "source": [
    "batch_size = 64\n",
    "\n",
    "epochs=15\n",
    "(X_train, y_train), (X_test, y_test) = cifar10.load_data()\n",
    "\n",
    "X_train = X_train/255\n",
    "X_test = X_test/255"
   ]
  },
  {
   "cell_type": "code",
   "execution_count": 3,
   "id": "24877343",
   "metadata": {},
   "outputs": [],
   "source": [
    "y_train = keras.utils.to_categorical(y_train, 10)\n",
    "y_test = keras.utils.to_categorical(y_test, 10)"
   ]
  },
  {
   "cell_type": "code",
   "execution_count": 4,
   "id": "4ee793a8",
   "metadata": {},
   "outputs": [],
   "source": [
    "classes=['самолет', 'автомобиль', 'птица', 'кот', 'олень', 'собака', 'лягушка', 'лошадь', 'корабль', 'грузовик']"
   ]
  },
  {
   "cell_type": "code",
   "execution_count": 5,
   "id": "3cbc7fea",
   "metadata": {},
   "outputs": [
    {
     "data": {
      "image/png": "[encoded data removed]",
      "text/plain": [
       "<Figure size 432x288 with 1 Axes>"
      ]
     },
     "metadata": {
      "needs_background": "light"
     },
     "output_type": "display_data"
    }
   ],
   "source": [
    "import matplotlib.pyplot as plt\n",
    "N=313\n",
    "plt.imshow(X_test[N][:,:,:]) \n",
    "plt.title('это : '+classes[np.argmax(y_test[N,:])])\n",
    "plt.show()\n",
    "# ну допустим..."
   ]
  },
  {
   "cell_type": "markdown",
   "id": "a12b0bea",
   "metadata": {},
   "source": [
    "Сделаем сеть из двух нитей"
   ]
  },
  {
   "cell_type": "code",
   "execution_count": 6,
   "id": "461dc510",
   "metadata": {},
   "outputs": [
    {
     "data": {
      "text/plain": [
       "(50000, 32, 32, 3)"
      ]
     },
     "execution_count": 6,
     "metadata": {},
     "output_type": "execute_result"
    }
   ],
   "source": [
    "X_train.shape"
   ]
  },
  {
   "cell_type": "code",
   "execution_count": 7,
   "id": "5f5a6109",
   "metadata": {},
   "outputs": [],
   "source": [
    "first_input = Input(shape=(32, 32, 3))\n",
    "x1 = Conv2D(10, 3, activation='relu', padding='same') (first_input)\n",
    "x1 = MaxPooling2D(pool_size=(2, 2))(x1)\n",
    "x1 = Flatten()(x1)\n",
    "x1 = Dense(100, activation='relu')(x1)\n",
    "out_x  = Dense(10, activation='softmax')(x1)\n",
    "\n",
    "model1 = Model(first_input, out_x)"
   ]
  },
  {
   "cell_type": "code",
   "execution_count": 16,
   "id": "9a23fe4f",
   "metadata": {},
   "outputs": [],
   "source": [
    "model1.compile(optimizer='adam', loss=tf.keras.losses.CategoricalCrossentropy(), metrics=['accuracy'])\n"
   ]
  },
  {
   "cell_type": "code",
   "execution_count": 17,
   "id": "b57774b7",
   "metadata": {},
   "outputs": [
    {
     "name": "stdout",
     "output_type": "stream",
     "text": [
      "Epoch 1/15\n",
      "1563/1563 [==============================] - 11s 4ms/step - loss: 1.4923 - accuracy: 0.4701\n",
      "Epoch 2/15\n",
      "1563/1563 [==============================] - 5s 3ms/step - loss: 1.2425 - accuracy: 0.5605\n",
      "Epoch 3/15\n",
      "1563/1563 [==============================] - 5s 3ms/step - loss: 1.1508 - accuracy: 0.5954\n",
      "Epoch 4/15\n",
      "1563/1563 [==============================] - 5s 4ms/step - loss: 1.0809 - accuracy: 0.6173\n",
      "Epoch 5/15\n",
      "1563/1563 [==============================] - 5s 4ms/step - loss: 1.0240 - accuracy: 0.6371\n",
      "Epoch 6/15\n",
      "1563/1563 [==============================] - 5s 4ms/step - loss: 0.9716 - accuracy: 0.6580\n",
      "Epoch 7/15\n",
      "1563/1563 [==============================] - 6s 4ms/step - loss: 0.9220 - accuracy: 0.6765\n",
      "Epoch 8/15\n",
      "1563/1563 [==============================] - 6s 4ms/step - loss: 0.8761 - accuracy: 0.6932\n",
      "Epoch 9/15\n",
      "1563/1563 [==============================] - 6s 4ms/step - loss: 0.8382 - accuracy: 0.7053\n",
      "Epoch 10/15\n",
      "1563/1563 [==============================] - 5s 3ms/step - loss: 0.7984 - accuracy: 0.7194\n",
      "Epoch 11/15\n",
      "1563/1563 [==============================] - 5s 3ms/step - loss: 0.7625 - accuracy: 0.7310\n",
      "Epoch 12/15\n",
      "1563/1563 [==============================] - 6s 4ms/step - loss: 0.7207 - accuracy: 0.7460\n",
      "Epoch 13/15\n",
      "1563/1563 [==============================] - 6s 4ms/step - loss: 0.6876 - accuracy: 0.7566\n",
      "Epoch 14/15\n",
      "1563/1563 [==============================] - 6s 4ms/step - loss: 0.6532 - accuracy: 0.7701\n",
      "Epoch 15/15\n",
      "1563/1563 [==============================] - 5s 3ms/step - loss: 0.6242 - accuracy: 0.7815\n"
     ]
    },
    {
     "data": {
      "text/plain": [
       "<keras.callbacks.History at 0x25d05b0cc40>"
      ]
     },
     "execution_count": 17,
     "metadata": {},
     "output_type": "execute_result"
    }
   ],
   "source": [
    "model1.fit(X_train, y_train, epochs=15)"
   ]
  },
  {
   "cell_type": "code",
   "execution_count": 18,
   "id": "26647303",
   "metadata": {},
   "outputs": [
    {
     "name": "stdout",
     "output_type": "stream",
     "text": [
      "313/313 [==============================] - 1s 3ms/step - loss: 1.2952 - accuracy: 0.6091\n"
     ]
    },
    {
     "data": {
      "text/plain": [
       "[1.2952284812927246, 0.6090999841690063]"
      ]
     },
     "execution_count": 18,
     "metadata": {},
     "output_type": "execute_result"
    }
   ],
   "source": [
    "model1.evaluate(X_test, y_test)"
   ]
  },
  {
   "cell_type": "code",
   "execution_count": 95,
   "id": "a15ae6a8",
   "metadata": {},
   "outputs": [],
   "source": [
    "import pandas as pd\n",
    "results = pd.DataFrame()\n",
    "res={}\n",
    "res['Model'] = '1 нить, 1 слой'\n",
    "res['train_loss'] = 0.62\n",
    "res['train_accuracy'] = 0.78\n",
    "res['valid_loss'] = 1.29\n",
    "res['valid_accuracy'] = 0.6"
   ]
  },
  {
   "cell_type": "code",
   "execution_count": 96,
   "id": "5d4cab1a",
   "metadata": {},
   "outputs": [],
   "source": [
    "results = results.append(res, ignore_index=True)"
   ]
  },
  {
   "cell_type": "code",
   "execution_count": 97,
   "id": "bdc9d21d",
   "metadata": {},
   "outputs": [
    {
     "data": {
      "text/html": [
       "<div>\n",
       "<style scoped>\n",
       "    .dataframe tbody tr th:only-of-type {\n",
       "        vertical-align: middle;\n",
       "    }\n",
       "\n",
       "    .dataframe tbody tr th {\n",
       "        vertical-align: top;\n",
       "    }\n",
       "\n",
       "    .dataframe thead th {\n",
       "        text-align: right;\n",
       "    }\n",
       "</style>\n",
       "<table border=\"1\" class=\"dataframe\">\n",
       "  <thead>\n",
       "    <tr style=\"text-align: right;\">\n",
       "      <th></th>\n",
       "      <th>Model</th>\n",
       "      <th>train_accuracy</th>\n",
       "      <th>train_loss</th>\n",
       "      <th>valid_accuracy</th>\n",
       "      <th>valid_loss</th>\n",
       "    </tr>\n",
       "  </thead>\n",
       "  <tbody>\n",
       "    <tr>\n",
       "      <th>0</th>\n",
       "      <td>1 нить, 1 слой</td>\n",
       "      <td>0.78</td>\n",
       "      <td>0.62</td>\n",
       "      <td>0.6</td>\n",
       "      <td>1.29</td>\n",
       "    </tr>\n",
       "  </tbody>\n",
       "</table>\n",
       "</div>"
      ],
      "text/plain": [
       "            Model  train_accuracy  train_loss  valid_accuracy  valid_loss\n",
       "0  1 нить, 1 слой            0.78        0.62             0.6        1.29"
      ]
     },
     "execution_count": 97,
     "metadata": {},
     "output_type": "execute_result"
    }
   ],
   "source": [
    "results "
   ]
  },
  {
   "cell_type": "markdown",
   "id": "eb089373",
   "metadata": {},
   "source": [
    "Добавим нить"
   ]
  },
  {
   "cell_type": "code",
   "execution_count": 34,
   "id": "82b1745f",
   "metadata": {},
   "outputs": [],
   "source": [
    "from tensorflow.keras.layers import Concatenate"
   ]
  },
  {
   "cell_type": "code",
   "execution_count": 35,
   "id": "b1cf223c",
   "metadata": {},
   "outputs": [],
   "source": [
    "\n",
    "first_input = Input(shape=(32, 32, 3))\n",
    "x1 = Conv2D(10, 3, activation='relu', padding='same') (first_input)\n",
    "x1 = MaxPooling2D(pool_size=(2, 2))(x1)\n",
    "x1 = Flatten()(x1)\n",
    "\n",
    "x2 = Conv2D(10, 3, activation='relu', padding='same') (first_input)\n",
    "x2 = MaxPooling2D(pool_size=(2, 2))(x2)\n",
    "x2 = Flatten()(x2)\n",
    "merge = Concatenate()([x1, x2])\n",
    "\n",
    "x2 = Dense(100, activation='relu')(merge)\n",
    "out_x  = Dense(10, activation='softmax')(x2)\n",
    "\n",
    "model2 = Model(first_input, out_x)"
   ]
  },
  {
   "cell_type": "code",
   "execution_count": 36,
   "id": "36c117c2",
   "metadata": {},
   "outputs": [
    {
     "data": {
      "image/png": "[encoded data removed]",
      "text/plain": [
       "<IPython.core.display.Image object>"
      ]
     },
     "execution_count": 36,
     "metadata": {},
     "output_type": "execute_result"
    }
   ],
   "source": [
    "plot_model(model2)"
   ]
  },
  {
   "cell_type": "code",
   "execution_count": 38,
   "id": "56c77c9e",
   "metadata": {},
   "outputs": [],
   "source": [
    "model2.compile(optimizer='adam', loss=tf.keras.losses.CategoricalCrossentropy(), metrics=['accuracy'])\n"
   ]
  },
  {
   "cell_type": "code",
   "execution_count": 39,
   "id": "5444e7db",
   "metadata": {},
   "outputs": [
    {
     "name": "stdout",
     "output_type": "stream",
     "text": [
      "Epoch 1/15\n",
      "1563/1563 [==============================] - 7s 4ms/step - loss: 1.6395 - accuracy: 0.4128\n",
      "Epoch 2/15\n",
      "1563/1563 [==============================] - 6s 4ms/step - loss: 1.2795 - accuracy: 0.5490\n",
      "Epoch 3/15\n",
      "1563/1563 [==============================] - 6s 4ms/step - loss: 1.1667 - accuracy: 0.5887\n",
      "Epoch 4/15\n",
      "1563/1563 [==============================] - 6s 4ms/step - loss: 1.0871 - accuracy: 0.6188\n",
      "Epoch 5/15\n",
      "1563/1563 [==============================] - 6s 4ms/step - loss: 1.0331 - accuracy: 0.6357\n",
      "Epoch 6/15\n",
      "1563/1563 [==============================] - 6s 4ms/step - loss: 0.9918 - accuracy: 0.6532\n",
      "Epoch 7/15\n",
      "1563/1563 [==============================] - 6s 4ms/step - loss: 0.9504 - accuracy: 0.6658\n",
      "Epoch 8/15\n",
      "1563/1563 [==============================] - 6s 4ms/step - loss: 0.9220 - accuracy: 0.6755\n",
      "Epoch 9/15\n",
      "1563/1563 [==============================] - 6s 4ms/step - loss: 0.8909 - accuracy: 0.6888\n",
      "Epoch 10/15\n",
      "1563/1563 [==============================] - 6s 4ms/step - loss: 0.8654 - accuracy: 0.6972\n",
      "Epoch 11/15\n",
      "1563/1563 [==============================] - 6s 4ms/step - loss: 0.8461 - accuracy: 0.7049\n",
      "Epoch 12/15\n",
      "1563/1563 [==============================] - 6s 4ms/step - loss: 0.8262 - accuracy: 0.7112\n",
      "Epoch 13/15\n",
      "1563/1563 [==============================] - 6s 4ms/step - loss: 0.8023 - accuracy: 0.7197\n",
      "Epoch 14/15\n",
      "1563/1563 [==============================] - 6s 4ms/step - loss: 0.7863 - accuracy: 0.7256\n",
      "Epoch 15/15\n",
      "1563/1563 [==============================] - 6s 4ms/step - loss: 0.7743 - accuracy: 0.7302\n"
     ]
    },
    {
     "data": {
      "text/plain": [
       "<keras.callbacks.History at 0x260ae1d65b0>"
      ]
     },
     "execution_count": 39,
     "metadata": {},
     "output_type": "execute_result"
    }
   ],
   "source": [
    "model2.fit(X_train, y_train, epochs=15)"
   ]
  },
  {
   "cell_type": "code",
   "execution_count": 40,
   "id": "a0577b96",
   "metadata": {},
   "outputs": [
    {
     "name": "stdout",
     "output_type": "stream",
     "text": [
      "313/313 [==============================] - 1s 4ms/step - loss: 1.1222 - accuracy: 0.6300\n"
     ]
    },
    {
     "data": {
      "text/plain": [
       "[1.122238039970398, 0.6299999952316284]"
      ]
     },
     "execution_count": 40,
     "metadata": {},
     "output_type": "execute_result"
    }
   ],
   "source": [
    "model2.evaluate(X_test, y_test)"
   ]
  },
  {
   "cell_type": "code",
   "execution_count": 98,
   "id": "0613cb54",
   "metadata": {},
   "outputs": [],
   "source": [
    "res={}\n",
    "res['Model'] = '2 нити, 1 слой'\n",
    "res['train_loss'] = 0.77\n",
    "res['train_accuracy'] = 0.73\n",
    "res['valid_loss'] = 1.12\n",
    "res['valid_accuracy'] = 0.62"
   ]
  },
  {
   "cell_type": "code",
   "execution_count": 99,
   "id": "79bd5348",
   "metadata": {},
   "outputs": [
    {
     "data": {
      "text/html": [
       "<div>\n",
       "<style scoped>\n",
       "    .dataframe tbody tr th:only-of-type {\n",
       "        vertical-align: middle;\n",
       "    }\n",
       "\n",
       "    .dataframe tbody tr th {\n",
       "        vertical-align: top;\n",
       "    }\n",
       "\n",
       "    .dataframe thead th {\n",
       "        text-align: right;\n",
       "    }\n",
       "</style>\n",
       "<table border=\"1\" class=\"dataframe\">\n",
       "  <thead>\n",
       "    <tr style=\"text-align: right;\">\n",
       "      <th></th>\n",
       "      <th>Model</th>\n",
       "      <th>train_accuracy</th>\n",
       "      <th>train_loss</th>\n",
       "      <th>valid_accuracy</th>\n",
       "      <th>valid_loss</th>\n",
       "    </tr>\n",
       "  </thead>\n",
       "  <tbody>\n",
       "    <tr>\n",
       "      <th>0</th>\n",
       "      <td>1 нить, 1 слой</td>\n",
       "      <td>0.78</td>\n",
       "      <td>0.62</td>\n",
       "      <td>0.60</td>\n",
       "      <td>1.29</td>\n",
       "    </tr>\n",
       "    <tr>\n",
       "      <th>1</th>\n",
       "      <td>2 нити, 1 слой</td>\n",
       "      <td>0.73</td>\n",
       "      <td>0.77</td>\n",
       "      <td>0.62</td>\n",
       "      <td>1.12</td>\n",
       "    </tr>\n",
       "  </tbody>\n",
       "</table>\n",
       "</div>"
      ],
      "text/plain": [
       "            Model  train_accuracy  train_loss  valid_accuracy  valid_loss\n",
       "0  1 нить, 1 слой            0.78        0.62            0.60        1.29\n",
       "1  2 нити, 1 слой            0.73        0.77            0.62        1.12"
      ]
     },
     "execution_count": 99,
     "metadata": {},
     "output_type": "execute_result"
    }
   ],
   "source": [
    "results = results.append(res, ignore_index=True)\n",
    "results"
   ]
  },
  {
   "cell_type": "markdown",
   "id": "a5397035",
   "metadata": {},
   "source": [
    "Добавим кол-во фильтров для конволюции и кол-во нейронов в полносвязной сети"
   ]
  },
  {
   "cell_type": "code",
   "execution_count": 43,
   "id": "d4325ba0",
   "metadata": {},
   "outputs": [],
   "source": [
    "first_input = Input(shape=(32, 32, 3))\n",
    "x1 = Conv2D(30, 3, activation='relu', padding='same') (first_input)\n",
    "x1 = MaxPooling2D(pool_size=(2, 2))(x1)\n",
    "x1 = Flatten()(x1)\n",
    "\n",
    "x2 = Conv2D(20, 3, activation='relu', padding='same') (first_input)\n",
    "x2 = MaxPooling2D(pool_size=(2, 2))(x2)\n",
    "x2 = Flatten()(x2)\n",
    "merge = Concatenate()([x1, x2])\n",
    "\n",
    "x2 = Dense(500, activation='relu')(merge)\n",
    "out_x  = Dense(10, activation='softmax')(x2)\n",
    "\n",
    "model3 = Model(first_input, out_x)"
   ]
  },
  {
   "cell_type": "code",
   "execution_count": 44,
   "id": "0ff59db9",
   "metadata": {},
   "outputs": [],
   "source": [
    "model3.compile(optimizer='adam', loss=tf.keras.losses.CategoricalCrossentropy(), metrics=['accuracy'])"
   ]
  },
  {
   "cell_type": "code",
   "execution_count": 45,
   "id": "1f90a47c",
   "metadata": {},
   "outputs": [
    {
     "name": "stdout",
     "output_type": "stream",
     "text": [
      "Epoch 1/15\n",
      "1563/1563 [==============================] - 7s 4ms/step - loss: 1.3779 - accuracy: 0.5139\n",
      "Epoch 2/15\n",
      "1563/1563 [==============================] - 7s 4ms/step - loss: 1.0417 - accuracy: 0.6315\n",
      "Epoch 3/15\n",
      "1563/1563 [==============================] - 7s 4ms/step - loss: 0.8723 - accuracy: 0.6909\n",
      "Epoch 4/15\n",
      "1563/1563 [==============================] - 7s 4ms/step - loss: 0.7379 - accuracy: 0.7395\n",
      "Epoch 5/15\n",
      "1563/1563 [==============================] - 7s 4ms/step - loss: 0.6043 - accuracy: 0.7858\n",
      "Epoch 6/15\n",
      "1563/1563 [==============================] - 7s 4ms/step - loss: 0.4850 - accuracy: 0.8304\n",
      "Epoch 7/15\n",
      "1563/1563 [==============================] - 7s 4ms/step - loss: 0.3728 - accuracy: 0.8706\n",
      "Epoch 8/15\n",
      "1563/1563 [==============================] - 7s 4ms/step - loss: 0.2919 - accuracy: 0.9003\n",
      "Epoch 9/15\n",
      "1563/1563 [==============================] - 6s 4ms/step - loss: 0.2227 - accuracy: 0.9249\n",
      "Epoch 10/15\n",
      "1563/1563 [==============================] - 6s 4ms/step - loss: 0.1707 - accuracy: 0.9426\n",
      "Epoch 11/15\n",
      "1563/1563 [==============================] - 6s 4ms/step - loss: 0.1448 - accuracy: 0.9518\n",
      "Epoch 12/15\n",
      "1563/1563 [==============================] - 6s 4ms/step - loss: 0.1216 - accuracy: 0.9594\n",
      "Epoch 13/15\n",
      "1563/1563 [==============================] - 7s 4ms/step - loss: 0.1053 - accuracy: 0.9657\n",
      "Epoch 14/15\n",
      "1563/1563 [==============================] - 7s 4ms/step - loss: 0.0912 - accuracy: 0.9697\n",
      "Epoch 15/15\n",
      "1563/1563 [==============================] - 6s 4ms/step - loss: 0.0854 - accuracy: 0.9727\n"
     ]
    },
    {
     "data": {
      "text/plain": [
       "<keras.callbacks.History at 0x260af53f820>"
      ]
     },
     "execution_count": 45,
     "metadata": {},
     "output_type": "execute_result"
    }
   ],
   "source": [
    "model3.fit(X_train, y_train, epochs=15)"
   ]
  },
  {
   "cell_type": "code",
   "execution_count": 46,
   "id": "32a527f0",
   "metadata": {},
   "outputs": [
    {
     "name": "stdout",
     "output_type": "stream",
     "text": [
      "313/313 [==============================] - 1s 3ms/step - loss: 2.2871 - accuracy: 0.6395\n"
     ]
    },
    {
     "data": {
      "text/plain": [
       "[2.287137746810913, 0.6395000219345093]"
      ]
     },
     "execution_count": 46,
     "metadata": {},
     "output_type": "execute_result"
    }
   ],
   "source": [
    "model3.evaluate(X_test, y_test)"
   ]
  },
  {
   "cell_type": "code",
   "execution_count": 100,
   "id": "e6f057f5",
   "metadata": {},
   "outputs": [],
   "source": [
    "res={}\n",
    "res['Model'] = '2 нити, 1 слой, больше нейронов'\n",
    "res['train_loss'] = 0.08\n",
    "res['train_accuracy'] = 0.97\n",
    "res['valid_loss'] = 2.28\n",
    "res['valid_accuracy'] = 0.64"
   ]
  },
  {
   "cell_type": "code",
   "execution_count": 101,
   "id": "42f48e71",
   "metadata": {},
   "outputs": [
    {
     "data": {
      "text/html": [
       "<div>\n",
       "<style scoped>\n",
       "    .dataframe tbody tr th:only-of-type {\n",
       "        vertical-align: middle;\n",
       "    }\n",
       "\n",
       "    .dataframe tbody tr th {\n",
       "        vertical-align: top;\n",
       "    }\n",
       "\n",
       "    .dataframe thead th {\n",
       "        text-align: right;\n",
       "    }\n",
       "</style>\n",
       "<table border=\"1\" class=\"dataframe\">\n",
       "  <thead>\n",
       "    <tr style=\"text-align: right;\">\n",
       "      <th></th>\n",
       "      <th>Model</th>\n",
       "      <th>train_accuracy</th>\n",
       "      <th>train_loss</th>\n",
       "      <th>valid_accuracy</th>\n",
       "      <th>valid_loss</th>\n",
       "    </tr>\n",
       "  </thead>\n",
       "  <tbody>\n",
       "    <tr>\n",
       "      <th>0</th>\n",
       "      <td>1 нить, 1 слой</td>\n",
       "      <td>0.78</td>\n",
       "      <td>0.62</td>\n",
       "      <td>0.60</td>\n",
       "      <td>1.29</td>\n",
       "    </tr>\n",
       "    <tr>\n",
       "      <th>1</th>\n",
       "      <td>2 нити, 1 слой</td>\n",
       "      <td>0.73</td>\n",
       "      <td>0.77</td>\n",
       "      <td>0.62</td>\n",
       "      <td>1.12</td>\n",
       "    </tr>\n",
       "    <tr>\n",
       "      <th>2</th>\n",
       "      <td>2 нити, 1 слой, больше нейронов</td>\n",
       "      <td>0.97</td>\n",
       "      <td>0.08</td>\n",
       "      <td>0.64</td>\n",
       "      <td>2.28</td>\n",
       "    </tr>\n",
       "  </tbody>\n",
       "</table>\n",
       "</div>"
      ],
      "text/plain": [
       "                             Model  train_accuracy  train_loss  \\\n",
       "0                   1 нить, 1 слой            0.78        0.62   \n",
       "1                   2 нити, 1 слой            0.73        0.77   \n",
       "2  2 нити, 1 слой, больше нейронов            0.97        0.08   \n",
       "\n",
       "   valid_accuracy  valid_loss  \n",
       "0            0.60        1.29  \n",
       "1            0.62        1.12  \n",
       "2            0.64        2.28  "
      ]
     },
     "execution_count": 101,
     "metadata": {},
     "output_type": "execute_result"
    }
   ],
   "source": [
    "results = results.append(res, ignore_index=True)\n",
    "results"
   ]
  },
  {
   "cell_type": "markdown",
   "id": "7404c403",
   "metadata": {},
   "source": [
    "Видно, что сеть сильно переобучилась, но и немного подняла метрику на валидации, попробуем увеличить глубину сети. "
   ]
  },
  {
   "cell_type": "code",
   "execution_count": 76,
   "id": "666588b4",
   "metadata": {},
   "outputs": [],
   "source": [
    "first_input = Input(shape=(32, 32, 3))\n",
    "x1 = Conv2D(32, 3, activation='relu', padding='same')(first_input)\n",
    "x1 = Conv2D(64, 3, activation='relu', padding='same')(x1)\n",
    "x1 = MaxPooling2D(pool_size=(2, 2))(x1)\n",
    "x1 = Conv2D(128, 3, activation='relu', padding='same')(x1)\n",
    "x1 = MaxPooling2D(pool_size=(2, 2))(x1)\n",
    "x1 = Flatten()(x1)\n",
    "\n",
    "x2 = Conv2D(32, 3, activation='relu', padding='same')(first_input)\n",
    "x2 = Conv2D(64, 3, activation='relu', padding='same')(x2)\n",
    "x2 = MaxPooling2D(pool_size=(2, 2))(x2)\n",
    "x2 = Flatten()(x2)\n",
    "merge = Concatenate()([x1, x2])\n",
    "\n",
    "x2 = Dense(128, activation='relu')(merge)\n",
    "x2 = Dense(128, activation='relu')(x2)\n",
    "out_x  = Dense(10, activation='softmax')(x2)\n",
    "\n",
    "model4 = Model(first_input, out_x)"
   ]
  },
  {
   "cell_type": "code",
   "execution_count": 77,
   "id": "d5f942fa",
   "metadata": {},
   "outputs": [
    {
     "data": {
      "image/png": "[encoded data removed]",
      "text/plain": [
       "<IPython.core.display.Image object>"
      ]
     },
     "execution_count": 77,
     "metadata": {},
     "output_type": "execute_result"
    }
   ],
   "source": [
    "plot_model(model4)"
   ]
  },
  {
   "cell_type": "code",
   "execution_count": 78,
   "id": "6dee6253",
   "metadata": {},
   "outputs": [
    {
     "name": "stdout",
     "output_type": "stream",
     "text": [
      "Model: \"model_8\"\n",
      "__________________________________________________________________________________________________\n",
      " Layer (type)                   Output Shape         Param #     Connected to                     \n",
      "==================================================================================================\n",
      " input_9 (InputLayer)           [(None, 32, 32, 3)]  0           []                               \n",
      "                                                                                                  \n",
      " conv2d_30 (Conv2D)             (None, 32, 32, 32)   896         ['input_9[0][0]']                \n",
      "                                                                                                  \n",
      " conv2d_31 (Conv2D)             (None, 32, 32, 64)   18496       ['conv2d_30[0][0]']              \n",
      "                                                                                                  \n",
      " max_pooling2d_22 (MaxPooling2D  (None, 16, 16, 64)  0           ['conv2d_31[0][0]']              \n",
      " )                                                                                                \n",
      "                                                                                                  \n",
      " conv2d_33 (Conv2D)             (None, 32, 32, 32)   896         ['input_9[0][0]']                \n",
      "                                                                                                  \n",
      " conv2d_32 (Conv2D)             (None, 16, 16, 128)  73856       ['max_pooling2d_22[0][0]']       \n",
      "                                                                                                  \n",
      " conv2d_34 (Conv2D)             (None, 32, 32, 64)   18496       ['conv2d_33[0][0]']              \n",
      "                                                                                                  \n",
      " max_pooling2d_23 (MaxPooling2D  (None, 8, 8, 128)   0           ['conv2d_32[0][0]']              \n",
      " )                                                                                                \n",
      "                                                                                                  \n",
      " max_pooling2d_24 (MaxPooling2D  (None, 16, 16, 64)  0           ['conv2d_34[0][0]']              \n",
      " )                                                                                                \n",
      "                                                                                                  \n",
      " flatten_15 (Flatten)           (None, 8192)         0           ['max_pooling2d_23[0][0]']       \n",
      "                                                                                                  \n",
      " flatten_16 (Flatten)           (None, 16384)        0           ['max_pooling2d_24[0][0]']       \n",
      "                                                                                                  \n",
      " concatenate_7 (Concatenate)    (None, 24576)        0           ['flatten_15[0][0]',             \n",
      "                                                                  'flatten_16[0][0]']             \n",
      "                                                                                                  \n",
      " dense_20 (Dense)               (None, 128)          3145856     ['concatenate_7[0][0]']          \n",
      "                                                                                                  \n",
      " dense_21 (Dense)               (None, 128)          16512       ['dense_20[0][0]']               \n",
      "                                                                                                  \n",
      " dense_22 (Dense)               (None, 10)           1290        ['dense_21[0][0]']               \n",
      "                                                                                                  \n",
      "==================================================================================================\n",
      "Total params: 3,276,298\n",
      "Trainable params: 3,276,298\n",
      "Non-trainable params: 0\n",
      "__________________________________________________________________________________________________\n"
     ]
    }
   ],
   "source": [
    "model4.summary()"
   ]
  },
  {
   "cell_type": "code",
   "execution_count": 79,
   "id": "f20b1a63",
   "metadata": {},
   "outputs": [],
   "source": [
    "model4.compile(optimizer='adam', loss=tf.keras.losses.CategoricalCrossentropy(), metrics=['accuracy'])"
   ]
  },
  {
   "cell_type": "code",
   "execution_count": 80,
   "id": "c23816fe",
   "metadata": {},
   "outputs": [
    {
     "name": "stdout",
     "output_type": "stream",
     "text": [
      "Epoch 1/15\n",
      "1563/1563 [==============================] - 13s 8ms/step - loss: 1.2551 - accuracy: 0.5498\n",
      "Epoch 2/15\n",
      "1563/1563 [==============================] - 12s 8ms/step - loss: 0.8400 - accuracy: 0.7058\n",
      "Epoch 3/15\n",
      "1563/1563 [==============================] - 12s 8ms/step - loss: 0.6421 - accuracy: 0.7735\n",
      "Epoch 4/15\n",
      "1563/1563 [==============================] - 12s 8ms/step - loss: 0.4728 - accuracy: 0.8349\n",
      "Epoch 5/15\n",
      "1563/1563 [==============================] - 12s 8ms/step - loss: 0.3347 - accuracy: 0.8821\n",
      "Epoch 6/15\n",
      "1563/1563 [==============================] - 12s 8ms/step - loss: 0.2290 - accuracy: 0.9187\n",
      "Epoch 7/15\n",
      "1563/1563 [==============================] - 12s 8ms/step - loss: 0.1673 - accuracy: 0.9414\n",
      "Epoch 8/15\n",
      "1563/1563 [==============================] - 12s 8ms/step - loss: 0.1353 - accuracy: 0.9534\n",
      "Epoch 9/15\n",
      "1563/1563 [==============================] - 12s 8ms/step - loss: 0.1139 - accuracy: 0.9613\n",
      "Epoch 10/15\n",
      "1563/1563 [==============================] - 12s 8ms/step - loss: 0.1048 - accuracy: 0.9642\n",
      "Epoch 11/15\n",
      "1563/1563 [==============================] - 12s 8ms/step - loss: 0.0894 - accuracy: 0.9695\n",
      "Epoch 12/15\n",
      "1563/1563 [==============================] - 12s 8ms/step - loss: 0.0802 - accuracy: 0.9740\n",
      "Epoch 13/15\n",
      "1563/1563 [==============================] - 12s 8ms/step - loss: 0.0850 - accuracy: 0.9722\n",
      "Epoch 14/15\n",
      "1563/1563 [==============================] - 12s 8ms/step - loss: 0.0688 - accuracy: 0.9770\n",
      "Epoch 15/15\n",
      "1563/1563 [==============================] - 12s 8ms/step - loss: 0.0704 - accuracy: 0.9769\n"
     ]
    },
    {
     "data": {
      "text/plain": [
       "<keras.callbacks.History at 0x260b6038a60>"
      ]
     },
     "execution_count": 80,
     "metadata": {},
     "output_type": "execute_result"
    }
   ],
   "source": [
    "model4.fit(X_train, y_train, epochs=15 )"
   ]
  },
  {
   "cell_type": "code",
   "execution_count": 81,
   "id": "dc50b818",
   "metadata": {},
   "outputs": [
    {
     "name": "stdout",
     "output_type": "stream",
     "text": [
      "313/313 [==============================] - 1s 4ms/step - loss: 1.9062 - accuracy: 0.7079\n"
     ]
    },
    {
     "data": {
      "text/plain": [
       "[1.9061810970306396, 0.7078999876976013]"
      ]
     },
     "execution_count": 81,
     "metadata": {},
     "output_type": "execute_result"
    }
   ],
   "source": [
    "model4.evaluate(X_test, y_test)"
   ]
  },
  {
   "cell_type": "code",
   "execution_count": 102,
   "id": "7f2a5b30",
   "metadata": {},
   "outputs": [],
   "source": [
    "res={}\n",
    "res['Model'] = '2 нити, 3 слоя, больше нейронов'\n",
    "res['train_loss'] = 0.07\n",
    "res['train_accuracy'] = 0.97\n",
    "res['valid_loss'] = 1.9\n",
    "res['valid_accuracy'] = 0.70"
   ]
  },
  {
   "cell_type": "code",
   "execution_count": 103,
   "id": "a46baf99",
   "metadata": {},
   "outputs": [],
   "source": [
    "results = results.append(res, ignore_index=True)"
   ]
  },
  {
   "cell_type": "code",
   "execution_count": 104,
   "id": "e8a0e85b",
   "metadata": {},
   "outputs": [
    {
     "data": {
      "text/html": [
       "<div>\n",
       "<style scoped>\n",
       "    .dataframe tbody tr th:only-of-type {\n",
       "        vertical-align: middle;\n",
       "    }\n",
       "\n",
       "    .dataframe tbody tr th {\n",
       "        vertical-align: top;\n",
       "    }\n",
       "\n",
       "    .dataframe thead th {\n",
       "        text-align: right;\n",
       "    }\n",
       "</style>\n",
       "<table border=\"1\" class=\"dataframe\">\n",
       "  <thead>\n",
       "    <tr style=\"text-align: right;\">\n",
       "      <th></th>\n",
       "      <th>Model</th>\n",
       "      <th>train_accuracy</th>\n",
       "      <th>train_loss</th>\n",
       "      <th>valid_accuracy</th>\n",
       "      <th>valid_loss</th>\n",
       "    </tr>\n",
       "  </thead>\n",
       "  <tbody>\n",
       "    <tr>\n",
       "      <th>0</th>\n",
       "      <td>1 нить, 1 слой</td>\n",
       "      <td>0.78</td>\n",
       "      <td>0.62</td>\n",
       "      <td>0.60</td>\n",
       "      <td>1.29</td>\n",
       "    </tr>\n",
       "    <tr>\n",
       "      <th>1</th>\n",
       "      <td>2 нити, 1 слой</td>\n",
       "      <td>0.73</td>\n",
       "      <td>0.77</td>\n",
       "      <td>0.62</td>\n",
       "      <td>1.12</td>\n",
       "    </tr>\n",
       "    <tr>\n",
       "      <th>2</th>\n",
       "      <td>2 нити, 1 слой, больше нейронов</td>\n",
       "      <td>0.97</td>\n",
       "      <td>0.08</td>\n",
       "      <td>0.64</td>\n",
       "      <td>2.28</td>\n",
       "    </tr>\n",
       "    <tr>\n",
       "      <th>3</th>\n",
       "      <td>2 нити, 3 слоя, больше нейронов</td>\n",
       "      <td>0.97</td>\n",
       "      <td>0.07</td>\n",
       "      <td>0.70</td>\n",
       "      <td>1.90</td>\n",
       "    </tr>\n",
       "  </tbody>\n",
       "</table>\n",
       "</div>"
      ],
      "text/plain": [
       "                             Model  train_accuracy  train_loss  \\\n",
       "0                   1 нить, 1 слой            0.78        0.62   \n",
       "1                   2 нити, 1 слой            0.73        0.77   \n",
       "2  2 нити, 1 слой, больше нейронов            0.97        0.08   \n",
       "3  2 нити, 3 слоя, больше нейронов            0.97        0.07   \n",
       "\n",
       "   valid_accuracy  valid_loss  \n",
       "0            0.60        1.29  \n",
       "1            0.62        1.12  \n",
       "2            0.64        2.28  \n",
       "3            0.70        1.90  "
      ]
     },
     "execution_count": 104,
     "metadata": {},
     "output_type": "execute_result"
    }
   ],
   "source": [
    "results"
   ]
  },
  {
   "cell_type": "markdown",
   "id": "309d96c5",
   "metadata": {},
   "source": []
  },
  {
   "cell_type": "code",
   "execution_count": null,
   "id": "321fdb21",
   "metadata": {},
   "outputs": [],
   "source": []
  },
  {
   "cell_type": "code",
   "execution_count": null,
   "id": "6d5e571e",
   "metadata": {},
   "outputs": [],
   "source": []
  }
 ],
 "metadata": {
  "kernelspec": {
   "display_name": "Python 3",
   "language": "python",
   "name": "python3"
  },
  "language_info": {
   "codemirror_mode": {
    "name": "ipython",
    "version": 3
   },
   "file_extension": ".py",
   "mimetype": "text/x-python",
   "name": "python",
   "nbconvert_exporter": "python",
   "pygments_lexer": "ipython3",
   "version": "3.8.8"
  }
 },
 "nbformat": 4,
 "nbformat_minor": 5
}
