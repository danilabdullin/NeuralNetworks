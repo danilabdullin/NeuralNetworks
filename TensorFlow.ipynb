{
 "cells": [
  {
   "cell_type": "markdown",
   "id": "204434e7",
   "metadata": {},
   "source": [
    "1. Попробуйте улучшить работу нейронной сети (разобранную на уроке), обучавшейся на датасет Fashion-MNIST"
   ]
  },
  {
   "cell_type": "code",
   "execution_count": 5,
   "id": "d72a0f7f",
   "metadata": {},
   "outputs": [],
   "source": [
    "import tensorflow as tf\n",
    "import numpy as np\n",
    "\n",
    "from tensorflow.keras.models import Sequential\n",
    "from tensorflow.keras.layers import Dense, Input, Flatten\n",
    "from tensorflow.keras.utils import to_categorical\n",
    "from tensorflow.keras.models import Model\n",
    "\n",
    "from tensorflow.keras.datasets import fashion_mnist"
   ]
  },
  {
   "cell_type": "code",
   "execution_count": 3,
   "id": "852ff98c",
   "metadata": {},
   "outputs": [],
   "source": [
    "(train_images, train_labels), (test_images, test_labels) = fashion_mnist.load_data()\n",
    "\n",
    "# нормализаиця\n",
    "train_images = (train_images / 255) * 2 - 1\n",
    "test_images = (test_images / 255) * 2 - 1\n"
   ]
  },
  {
   "cell_type": "code",
   "execution_count": 4,
   "id": "3afc247a",
   "metadata": {},
   "outputs": [],
   "source": [
    "y_train = to_categorical(train_labels)\n",
    "y_test = to_categorical(test_labels)"
   ]
  },
  {
   "cell_type": "code",
   "execution_count": 8,
   "id": "9625be54",
   "metadata": {},
   "outputs": [],
   "source": [
    "inputs = Input(shape=(28, 28))\n",
    "x_1 = Flatten()(inputs)\n",
    "x = Dense(128, activation='relu')(x_1)\n",
    "outputs = Dense(10)(x)\n",
    "\n",
    "model = Model(inputs=inputs, outputs=outputs)"
   ]
  },
  {
   "cell_type": "code",
   "execution_count": 9,
   "id": "5afab9f0",
   "metadata": {},
   "outputs": [
    {
     "name": "stdout",
     "output_type": "stream",
     "text": [
      "Model: \"model\"\n",
      "_________________________________________________________________\n",
      " Layer (type)                Output Shape              Param #   \n",
      "=================================================================\n",
      " input_3 (InputLayer)        [(None, 28, 28)]          0         \n",
      "                                                                 \n",
      " flatten_1 (Flatten)         (None, 784)               0         \n",
      "                                                                 \n",
      " dense_2 (Dense)             (None, 128)               100480    \n",
      "                                                                 \n",
      " dense_3 (Dense)             (None, 10)                1290      \n",
      "                                                                 \n",
      "=================================================================\n",
      "Total params: 101,770\n",
      "Trainable params: 101,770\n",
      "Non-trainable params: 0\n",
      "_________________________________________________________________\n"
     ]
    }
   ],
   "source": [
    "model.summary()"
   ]
  },
  {
   "cell_type": "code",
   "execution_count": 10,
   "id": "fd8304e9",
   "metadata": {},
   "outputs": [],
   "source": [
    "from tensorflow import keras"
   ]
  },
  {
   "cell_type": "code",
   "execution_count": 15,
   "id": "9bc86aa6",
   "metadata": {},
   "outputs": [],
   "source": [
    "model.compile(optimizer='adam', \n",
    "              loss=keras.losses.CategoricalCrossentropy(from_logits=True),\n",
    "              metrics=['accuracy'])"
   ]
  },
  {
   "cell_type": "code",
   "execution_count": 16,
   "id": "d36649c9",
   "metadata": {},
   "outputs": [
    {
     "name": "stdout",
     "output_type": "stream",
     "text": [
      "Epoch 1/3\n",
      "938/938 [==============================] - 3s 3ms/step - loss: 1.6314 - accuracy: 0.7714\n",
      "Epoch 2/3\n",
      "938/938 [==============================] - 3s 3ms/step - loss: 0.4202 - accuracy: 0.8494\n",
      "Epoch 3/3\n",
      "938/938 [==============================] - 2s 2ms/step - loss: 0.3788 - accuracy: 0.8640\n"
     ]
    },
    {
     "data": {
      "text/plain": [
       "<keras.callbacks.History at 0x2a751239700>"
      ]
     },
     "execution_count": 16,
     "metadata": {},
     "output_type": "execute_result"
    }
   ],
   "source": [
    "model.fit(train_images, y_train, epochs=3, batch_size=64)"
   ]
  },
  {
   "cell_type": "code",
   "execution_count": 19,
   "id": "ccbe1fe6",
   "metadata": {},
   "outputs": [
    {
     "name": "stdout",
     "output_type": "stream",
     "text": [
      "313/313 [==============================] - 1s 3ms/step - loss: 0.4102 - accuracy: 0.8577\n",
      "Метрика на валидации: 0.857699990272522\n"
     ]
    }
   ],
   "source": [
    "print(f'Метрика на валидации: {model.evaluate(test_images, y_test)[1]}')"
   ]
  },
  {
   "cell_type": "markdown",
   "id": "82a14e12",
   "metadata": {},
   "source": [
    "Улучшим модель тем, что увеличим кол-во нейронов в слое и дабавим кол-во эпох"
   ]
  },
  {
   "cell_type": "code",
   "execution_count": 21,
   "id": "735b1033",
   "metadata": {},
   "outputs": [],
   "source": [
    "inputs = Input(shape=(28, 28))\n",
    "x_1 = Flatten()(inputs)\n",
    "x = Dense(1024, activation='relu')(x_1)\n",
    "outputs = Dense(10)(x)\n",
    "\n",
    "model = Model(inputs=inputs, outputs=outputs)"
   ]
  },
  {
   "cell_type": "code",
   "execution_count": 22,
   "id": "361f6acd",
   "metadata": {},
   "outputs": [
    {
     "name": "stdout",
     "output_type": "stream",
     "text": [
      "Model: \"model_1\"\n",
      "_________________________________________________________________\n",
      " Layer (type)                Output Shape              Param #   \n",
      "=================================================================\n",
      " input_4 (InputLayer)        [(None, 28, 28)]          0         \n",
      "                                                                 \n",
      " flatten_2 (Flatten)         (None, 784)               0         \n",
      "                                                                 \n",
      " dense_4 (Dense)             (None, 1024)              803840    \n",
      "                                                                 \n",
      " dense_5 (Dense)             (None, 10)                10250     \n",
      "                                                                 \n",
      "=================================================================\n",
      "Total params: 814,090\n",
      "Trainable params: 814,090\n",
      "Non-trainable params: 0\n",
      "_________________________________________________________________\n"
     ]
    }
   ],
   "source": [
    "model.summary()"
   ]
  },
  {
   "cell_type": "code",
   "execution_count": 23,
   "id": "c7327188",
   "metadata": {},
   "outputs": [],
   "source": [
    "model.compile(optimizer='adam', \n",
    "              loss=keras.losses.CategoricalCrossentropy(from_logits=True),\n",
    "              metrics=['accuracy'])"
   ]
  },
  {
   "cell_type": "code",
   "execution_count": 24,
   "id": "cf7a043b",
   "metadata": {},
   "outputs": [
    {
     "name": "stdout",
     "output_type": "stream",
     "text": [
      "Epoch 1/12\n",
      "938/938 [==============================] - 3s 3ms/step - loss: 0.4723 - accuracy: 0.8298\n",
      "Epoch 2/12\n",
      "938/938 [==============================] - 3s 3ms/step - loss: 0.3647 - accuracy: 0.8672\n",
      "Epoch 3/12\n",
      "938/938 [==============================] - 3s 3ms/step - loss: 0.3285 - accuracy: 0.8791\n",
      "Epoch 4/12\n",
      "938/938 [==============================] - 3s 3ms/step - loss: 0.3034 - accuracy: 0.8881\n",
      "Epoch 5/12\n",
      "938/938 [==============================] - 3s 3ms/step - loss: 0.2845 - accuracy: 0.8946\n",
      "Epoch 6/12\n",
      "938/938 [==============================] - 3s 3ms/step - loss: 0.2685 - accuracy: 0.9011\n",
      "Epoch 7/12\n",
      "938/938 [==============================] - 3s 3ms/step - loss: 0.2525 - accuracy: 0.9067\n",
      "Epoch 8/12\n",
      "938/938 [==============================] - 3s 3ms/step - loss: 0.2424 - accuracy: 0.9089\n",
      "Epoch 9/12\n",
      "938/938 [==============================] - 3s 3ms/step - loss: 0.2299 - accuracy: 0.9141\n",
      "Epoch 10/12\n",
      "938/938 [==============================] - 3s 3ms/step - loss: 0.2212 - accuracy: 0.9167\n",
      "Epoch 11/12\n",
      "938/938 [==============================] - 3s 3ms/step - loss: 0.2094 - accuracy: 0.9202\n",
      "Epoch 12/12\n",
      "938/938 [==============================] - 3s 3ms/step - loss: 0.2001 - accuracy: 0.9250\n"
     ]
    },
    {
     "data": {
      "text/plain": [
       "<keras.callbacks.History at 0x2a75396e880>"
      ]
     },
     "execution_count": 24,
     "metadata": {},
     "output_type": "execute_result"
    }
   ],
   "source": [
    "model.fit(train_images, y_train, epochs=12, batch_size=64)"
   ]
  },
  {
   "cell_type": "code",
   "execution_count": 25,
   "id": "ec5897a9",
   "metadata": {},
   "outputs": [
    {
     "name": "stdout",
     "output_type": "stream",
     "text": [
      "313/313 [==============================] - 1s 3ms/step - loss: 0.3844 - accuracy: 0.8823\n",
      "Метрика на валидации: 0.8823000192642212\n"
     ]
    }
   ],
   "source": [
    "print(f'Метрика на валидации: {model.evaluate(test_images, y_test)[1]}')"
   ]
  },
  {
   "cell_type": "markdown",
   "id": "35c04cdf",
   "metadata": {},
   "source": [
    "Метрика улучшилась как на обучении, так и на тесте.  "
   ]
  },
  {
   "cell_type": "markdown",
   "id": "8104a912",
   "metadata": {},
   "source": [
    "2. Постройте нейронную сеть(берем простую линейную сеть, которую разбирали на уроке: меняем число слоев, число нейронов , типы активации, тип оптимизатора)  на датасет from sklearn.datasets import load_boston. \n",
    "3. Измените функцию потерь и метрику для этой задачи. Постройте 10-15 вариантов и сведите результаты их работы в таблицу  Опишите, какого результата вы добились от нейросети? Что помогло вам улучшить ее точность?"
   ]
  },
  {
   "cell_type": "code",
   "execution_count": 46,
   "id": "73df43d1",
   "metadata": {},
   "outputs": [],
   "source": [
    "from sklearn.datasets import load_boston\n",
    "import pandas as pd\n",
    "from sklearn.model_selection import train_test_split"
   ]
  },
  {
   "cell_type": "code",
   "execution_count": 35,
   "id": "bae0d62e",
   "metadata": {},
   "outputs": [],
   "source": [
    "X, y = load_boston(return_X_y=True)"
   ]
  },
  {
   "cell_type": "code",
   "execution_count": 52,
   "id": "b39ffe3e",
   "metadata": {},
   "outputs": [],
   "source": [
    "X_train, X_test, y_train, y_test = train_test_split(X, y)"
   ]
  },
  {
   "cell_type": "code",
   "execution_count": 129,
   "id": "dfe435b2",
   "metadata": {},
   "outputs": [],
   "source": [
    "normalizer = tf.keras.layers.Normalization(input_shape=(X_train.shape[1],))\n",
    "normalizer.adapt(X_train)"
   ]
  },
  {
   "cell_type": "code",
   "execution_count": 231,
   "id": "5358af15",
   "metadata": {},
   "outputs": [
    {
     "data": {
      "text/plain": [
       "{'optimizer': 'NAdam',\n",
       " 'num_layers': 6,\n",
       " 'nn_num': 1024,\n",
       " 'loss': 77.51628875732422,\n",
       " 'mae': 6.253426551818848,\n",
       " 'model': 'model1/4 layers',\n",
       " 'model_name': 'model/3layers/relu'}"
      ]
     },
     "execution_count": 231,
     "metadata": {},
     "output_type": "execute_result"
    }
   ],
   "source": [
    "results"
   ]
  },
  {
   "cell_type": "code",
   "execution_count": 256,
   "id": "8289ba96",
   "metadata": {},
   "outputs": [],
   "source": [
    "model1 = Sequential([\n",
    "    normalizer,\n",
    "    Dense(16, activation='relu'),\n",
    "    Dense(16, activation='relu'),\n",
    "    Dense(1, activation='linear')\n",
    "])\n",
    "\n"
   ]
  },
  {
   "cell_type": "code",
   "execution_count": 252,
   "id": "123cc134",
   "metadata": {},
   "outputs": [],
   "source": [
    "model2 = Sequential([\n",
    "    normalizer,\n",
    "    Dense(16, activation='tanh'),\n",
    "    Dense(32, activation='tanh'),\n",
    "    Dense(64, activation='tanh'),\n",
    "    Dense(1, activation='linear')\n",
    "])\n",
    "\n"
   ]
  },
  {
   "cell_type": "code",
   "execution_count": 239,
   "id": "ff398eb0",
   "metadata": {},
   "outputs": [],
   "source": [
    "model3 = Sequential([\n",
    "    normalizer,\n",
    "    Dense(128, activation='tanh'),\n",
    "    Dense(64, activation='tanh'),\n",
    "    Dense(32, activation='tanh'),\n",
    "    Dense(16, activation='tanh'),\n",
    "    Dense(1, activation='linear')\n",
    "])\n"
   ]
  },
  {
   "cell_type": "code",
   "execution_count": 248,
   "id": "21847414",
   "metadata": {},
   "outputs": [],
   "source": [
    "def test_nn(model, model_name):\n",
    "    res = pd.DataFrame()\n",
    "    for i_optim in ['SGD','RMSProp','adam','NAdam']:\n",
    "        model.compile(optimizer=i_optim,\n",
    "             loss=tf.keras.losses.MeanSquaredError(),\n",
    "             metrics=[tf.keras.metrics.MeanAbsoluteError()])\n",
    "        model.fit(X_train, y_train, epochs=50, batch_size=16, verbose=0)\n",
    "        loss, mae = model.evaluate(X_test, y_test, verbose=0)\n",
    "        results['model_name'] = model_name\n",
    "        results['optimizer'] = i_optim\n",
    "        results['loss'] = loss\n",
    "        results['mae'] = mae\n",
    "        res = res.append(results, ignore_index=True)\n",
    "    return res"
   ]
  },
  {
   "cell_type": "code",
   "execution_count": 257,
   "id": "02bc52cf",
   "metadata": {},
   "outputs": [
    {
     "data": {
      "text/html": [
       "<div>\n",
       "<style scoped>\n",
       "    .dataframe tbody tr th:only-of-type {\n",
       "        vertical-align: middle;\n",
       "    }\n",
       "\n",
       "    .dataframe tbody tr th {\n",
       "        vertical-align: top;\n",
       "    }\n",
       "\n",
       "    .dataframe thead th {\n",
       "        text-align: right;\n",
       "    }\n",
       "</style>\n",
       "<table border=\"1\" class=\"dataframe\">\n",
       "  <thead>\n",
       "    <tr style=\"text-align: right;\">\n",
       "      <th></th>\n",
       "      <th>loss</th>\n",
       "      <th>mae</th>\n",
       "      <th>model_name</th>\n",
       "      <th>optimizer</th>\n",
       "    </tr>\n",
       "  </thead>\n",
       "  <tbody>\n",
       "    <tr>\n",
       "      <th>0</th>\n",
       "      <td>11.504995</td>\n",
       "      <td>2.407117</td>\n",
       "      <td>model1/3 layers/relu</td>\n",
       "      <td>SGD</td>\n",
       "    </tr>\n",
       "    <tr>\n",
       "      <th>1</th>\n",
       "      <td>10.316686</td>\n",
       "      <td>2.277929</td>\n",
       "      <td>model1/3 layers/relu</td>\n",
       "      <td>RMSProp</td>\n",
       "    </tr>\n",
       "    <tr>\n",
       "      <th>2</th>\n",
       "      <td>10.382680</td>\n",
       "      <td>2.274507</td>\n",
       "      <td>model1/3 layers/relu</td>\n",
       "      <td>adam</td>\n",
       "    </tr>\n",
       "    <tr>\n",
       "      <th>3</th>\n",
       "      <td>10.176398</td>\n",
       "      <td>2.244078</td>\n",
       "      <td>model1/3 layers/relu</td>\n",
       "      <td>NAdam</td>\n",
       "    </tr>\n",
       "  </tbody>\n",
       "</table>\n",
       "</div>"
      ],
      "text/plain": [
       "        loss       mae            model_name optimizer\n",
       "0  11.504995  2.407117  model1/3 layers/relu       SGD\n",
       "1  10.316686  2.277929  model1/3 layers/relu   RMSProp\n",
       "2  10.382680  2.274507  model1/3 layers/relu      adam\n",
       "3  10.176398  2.244078  model1/3 layers/relu     NAdam"
      ]
     },
     "execution_count": 257,
     "metadata": {},
     "output_type": "execute_result"
    }
   ],
   "source": [
    "res = test_nn(model1, 'model1/3 layers/relu')\n",
    "res"
   ]
  },
  {
   "cell_type": "code",
   "execution_count": 253,
   "id": "c6671a80",
   "metadata": {},
   "outputs": [
    {
     "data": {
      "text/html": [
       "<div>\n",
       "<style scoped>\n",
       "    .dataframe tbody tr th:only-of-type {\n",
       "        vertical-align: middle;\n",
       "    }\n",
       "\n",
       "    .dataframe tbody tr th {\n",
       "        vertical-align: top;\n",
       "    }\n",
       "\n",
       "    .dataframe thead th {\n",
       "        text-align: right;\n",
       "    }\n",
       "</style>\n",
       "<table border=\"1\" class=\"dataframe\">\n",
       "  <thead>\n",
       "    <tr style=\"text-align: right;\">\n",
       "      <th></th>\n",
       "      <th>loss</th>\n",
       "      <th>mae</th>\n",
       "      <th>model_name</th>\n",
       "      <th>optimizer</th>\n",
       "    </tr>\n",
       "  </thead>\n",
       "  <tbody>\n",
       "    <tr>\n",
       "      <th>0</th>\n",
       "      <td>15.692831</td>\n",
       "      <td>2.591993</td>\n",
       "      <td>model2/4 layers/relu</td>\n",
       "      <td>SGD</td>\n",
       "    </tr>\n",
       "    <tr>\n",
       "      <th>1</th>\n",
       "      <td>13.593245</td>\n",
       "      <td>2.474348</td>\n",
       "      <td>model2/4 layers/relu</td>\n",
       "      <td>RMSProp</td>\n",
       "    </tr>\n",
       "    <tr>\n",
       "      <th>2</th>\n",
       "      <td>13.805030</td>\n",
       "      <td>2.473044</td>\n",
       "      <td>model2/4 layers/relu</td>\n",
       "      <td>adam</td>\n",
       "    </tr>\n",
       "    <tr>\n",
       "      <th>3</th>\n",
       "      <td>13.579480</td>\n",
       "      <td>2.458390</td>\n",
       "      <td>model2/4 layers/relu</td>\n",
       "      <td>NAdam</td>\n",
       "    </tr>\n",
       "  </tbody>\n",
       "</table>\n",
       "</div>"
      ],
      "text/plain": [
       "        loss       mae            model_name optimizer\n",
       "0  15.692831  2.591993  model2/4 layers/relu       SGD\n",
       "1  13.593245  2.474348  model2/4 layers/relu   RMSProp\n",
       "2  13.805030  2.473044  model2/4 layers/relu      adam\n",
       "3  13.579480  2.458390  model2/4 layers/relu     NAdam"
      ]
     },
     "execution_count": 253,
     "metadata": {},
     "output_type": "execute_result"
    }
   ],
   "source": [
    "res2 =test_nn(model2, 'model2/4 layers/relu')\n",
    "res2"
   ]
  },
  {
   "cell_type": "code",
   "execution_count": 251,
   "id": "b84dc384",
   "metadata": {},
   "outputs": [
    {
     "data": {
      "text/html": [
       "<div>\n",
       "<style scoped>\n",
       "    .dataframe tbody tr th:only-of-type {\n",
       "        vertical-align: middle;\n",
       "    }\n",
       "\n",
       "    .dataframe tbody tr th {\n",
       "        vertical-align: top;\n",
       "    }\n",
       "\n",
       "    .dataframe thead th {\n",
       "        text-align: right;\n",
       "    }\n",
       "</style>\n",
       "<table border=\"1\" class=\"dataframe\">\n",
       "  <thead>\n",
       "    <tr style=\"text-align: right;\">\n",
       "      <th></th>\n",
       "      <th>loss</th>\n",
       "      <th>mae</th>\n",
       "      <th>model_name</th>\n",
       "      <th>optimizer</th>\n",
       "    </tr>\n",
       "  </thead>\n",
       "  <tbody>\n",
       "    <tr>\n",
       "      <th>0</th>\n",
       "      <td>17.822796</td>\n",
       "      <td>2.586825</td>\n",
       "      <td>model3/6 layers/tanh</td>\n",
       "      <td>SGD</td>\n",
       "    </tr>\n",
       "    <tr>\n",
       "      <th>1</th>\n",
       "      <td>17.930138</td>\n",
       "      <td>2.609938</td>\n",
       "      <td>model3/6 layers/tanh</td>\n",
       "      <td>RMSProp</td>\n",
       "    </tr>\n",
       "    <tr>\n",
       "      <th>2</th>\n",
       "      <td>17.947788</td>\n",
       "      <td>2.647948</td>\n",
       "      <td>model3/6 layers/tanh</td>\n",
       "      <td>adam</td>\n",
       "    </tr>\n",
       "    <tr>\n",
       "      <th>3</th>\n",
       "      <td>17.807718</td>\n",
       "      <td>2.620070</td>\n",
       "      <td>model3/6 layers/tanh</td>\n",
       "      <td>NAdam</td>\n",
       "    </tr>\n",
       "  </tbody>\n",
       "</table>\n",
       "</div>"
      ],
      "text/plain": [
       "        loss       mae            model_name optimizer\n",
       "0  17.822796  2.586825  model3/6 layers/tanh       SGD\n",
       "1  17.930138  2.609938  model3/6 layers/tanh   RMSProp\n",
       "2  17.947788  2.647948  model3/6 layers/tanh      adam\n",
       "3  17.807718  2.620070  model3/6 layers/tanh     NAdam"
      ]
     },
     "execution_count": 251,
     "metadata": {},
     "output_type": "execute_result"
    }
   ],
   "source": [
    "res3 = test_nn(model3, 'model3/6 layers/tanh')\n",
    "res3"
   ]
  },
  {
   "cell_type": "code",
   "execution_count": null,
   "id": "a8ffb0a8",
   "metadata": {},
   "outputs": [],
   "source": []
  },
  {
   "cell_type": "code",
   "execution_count": null,
   "id": "276d13c6",
   "metadata": {},
   "outputs": [],
   "source": []
  },
  {
   "cell_type": "code",
   "execution_count": null,
   "id": "2a311e61",
   "metadata": {},
   "outputs": [],
   "source": []
  }
 ],
 "metadata": {
  "kernelspec": {
   "display_name": "Python 3",
   "language": "python",
   "name": "python3"
  },
  "language_info": {
   "codemirror_mode": {
    "name": "ipython",
    "version": 3
   },
   "file_extension": ".py",
   "mimetype": "text/x-python",
   "name": "python",
   "nbconvert_exporter": "python",
   "pygments_lexer": "ipython3",
   "version": "3.8.8"
  }
 },
 "nbformat": 4,
 "nbformat_minor": 5
}
